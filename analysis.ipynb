# Jupyter Notebook for combined analysis (summary of all simulations)
# Includes:
# 1. Monty Hall results
# 2. Dice probability distribution
# 3. Poker hand odds comparison
# 4. Key takeaways